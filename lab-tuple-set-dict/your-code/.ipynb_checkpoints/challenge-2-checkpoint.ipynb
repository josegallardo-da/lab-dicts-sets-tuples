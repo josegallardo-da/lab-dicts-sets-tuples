{
 "cells": [
  {
   "cell_type": "markdown",
   "metadata": {},
   "source": [
    "## Challenge 2: Sets\n",
    "\n",
    "There are a lot to learn about Python Sets and the information presented in the lesson is limited due to its length. To learn Python Sets in depth you are strongly encouraged to review the W3Schools tutorial on [Python Sets Examples and Methods](https://www.w3schools.com/python/python_sets.asp) before you work on this lab. Some difficult questions in this lab have their solutions in the W3Schools tutorial.\n",
    "\n",
    "#### First, import the Python `random` libary"
   ]
  },
  {
   "cell_type": "code",
   "execution_count": 92,
   "metadata": {},
   "outputs": [],
   "source": [
    "import random"
   ]
  },
  {
   "cell_type": "markdown",
   "metadata": {},
   "source": [
    "#### In the cell below, create a list named `sample_list_1` with 80 random values. \n",
    "\n",
    "Requirements:\n",
    "\n",
    "* Each value is an integer falling between 0 and 100.\n",
    "* Each value in the list is unique.\n",
    "\n",
    "Print `sample_list_1` to review its values\n",
    "\n",
    "*Hint: use `random.sample` ([reference](https://docs.python.org/3/library/random.html#random.sample)).*"
   ]
  },
  {
   "cell_type": "code",
   "execution_count": 93,
   "metadata": {},
   "outputs": [
    {
     "name": "stdout",
     "output_type": "stream",
     "text": [
      "\n",
      " <class 'list'> \n",
      "\n",
      "[79, 31, 78, 7, 71, 100, 35, 69, 54, 21, 38, 33, 57, 93, 87, 51, 6, 12, 77, 34, 50, 89, 46, 17, 28, 86, 64, 96, 70, 36, 13, 81, 76, 84, 27, 52, 68, 11, 73, 20, 83, 94, 55, 59, 97, 99, 4, 49, 16, 2, 58, 42, 30, 44, 39, 15, 53, 92, 72, 26, 0, 63, 47, 85, 10, 75, 25, 18, 19, 24, 56, 8, 5, 88, 60, 61, 74, 22, 82, 23] \n",
      "\n",
      "Number of Elements: 80\n"
     ]
    }
   ],
   "source": [
    "# Your code here\n",
    "sample_list_1 = random.sample(range(101), 80)\n",
    "print('\\n',type(sample_list_1), '\\n')\n",
    "print(sample_list_1, '\\n')\n",
    "print('Number of Elements:',len(sample_list_1))\n",
    "for i in sample_list_1:\n",
    "    if sample_list_1.count(i) > 1:\n",
    "        print('REPEATED NUMBERS')"
   ]
  },
  {
   "cell_type": "markdown",
   "metadata": {},
   "source": [
    "#### Convert `sample_list_1` to a set called `set1`. Print the length of the set. Is its length still 80?"
   ]
  },
  {
   "cell_type": "code",
   "execution_count": 94,
   "metadata": {},
   "outputs": [
    {
     "name": "stdout",
     "output_type": "stream",
     "text": [
      "\n",
      " <class 'set'> \n",
      "\n",
      "{0, 2, 4, 5, 6, 7, 8, 10, 11, 12, 13, 15, 16, 17, 18, 19, 20, 21, 22, 23, 24, 25, 26, 27, 28, 30, 31, 33, 34, 35, 36, 38, 39, 42, 44, 46, 47, 49, 50, 51, 52, 53, 54, 55, 56, 57, 58, 59, 60, 61, 63, 64, 68, 69, 70, 71, 72, 73, 74, 75, 76, 77, 78, 79, 81, 82, 83, 84, 85, 86, 87, 88, 89, 92, 93, 94, 96, 97, 99, 100} \n",
      "\n",
      "Number of Elements: 80\n"
     ]
    }
   ],
   "source": [
    "# Your code here\n",
    "\n",
    "set1 = set(sample_list_1)\n",
    "print('\\n', type(set1), '\\n')\n",
    "print(set1, '\\n')\n",
    "print('Number of Elements:', len(set1))\n"
   ]
  },
  {
   "cell_type": "markdown",
   "metadata": {},
   "source": [
    "#### Create another list named `sample_list_2` with 80 random values.\n",
    "\n",
    "Requirements:\n",
    "\n",
    "* Each value is an integer falling between 0 and 100.\n",
    "* The values in the list don't have to be unique.\n",
    "\n",
    "*Hint: Use a FOR loop.*"
   ]
  },
  {
   "cell_type": "code",
   "execution_count": 95,
   "metadata": {},
   "outputs": [
    {
     "name": "stdout",
     "output_type": "stream",
     "text": [
      "<class 'list'> \n",
      "\n",
      "[4, 39, 77, 11, 88, 74, 21, 87, 25, 85, 23, 3, 37, 13, 20, 52, 4, 36, 53, 61, 41, 91, 42, 43, 28, 19, 66, 8, 57, 99, 93, 13, 65, 21, 61, 99, 53, 28, 43, 70, 97, 18, 56, 32, 1, 18, 88, 35, 97, 41, 63, 92, 46, 47, 41, 88, 67, 49, 11, 65, 7, 86, 37, 66, 22, 55, 46, 2, 65, 40, 24, 30, 50, 33, 37, 74, 3, 25, 70, 80] \n",
      "\n",
      "The List contains: 80 elements. \n",
      "\n"
     ]
    }
   ],
   "source": [
    "# Your code here\n",
    "\n",
    "sample_list_2 = [random.randint(0,100) for i in range(80)]\n",
    "print(type(sample_list_2), '\\n')\n",
    "print(sample_list_2, '\\n')\n",
    "print('The List contains:', len(sample_list_2), 'elements.', '\\n')\n"
   ]
  },
  {
   "cell_type": "markdown",
   "metadata": {},
   "source": [
    "#### Convert `sample_list_2` to a set called `set2`. Print the length of the set. Is its length still 80?"
   ]
  },
  {
   "cell_type": "code",
   "execution_count": 96,
   "metadata": {},
   "outputs": [
    {
     "name": "stdout",
     "output_type": "stream",
     "text": [
      "\n",
      " <class 'set'> \n",
      "\n",
      "{1, 2, 3, 4, 7, 8, 11, 13, 18, 19, 20, 21, 22, 23, 24, 25, 28, 30, 32, 33, 35, 36, 37, 39, 40, 41, 42, 43, 46, 47, 49, 50, 52, 53, 55, 56, 57, 61, 63, 65, 66, 67, 70, 74, 77, 80, 85, 86, 87, 88, 91, 92, 93, 97, 99} \n",
      "\n",
      "Number of Elements: 55\n"
     ]
    }
   ],
   "source": [
    "# Your code here\n",
    "\n",
    "set2 = set(sample_list_2)\n",
    "print('\\n', type(set2), '\\n')\n",
    "print(set2, '\\n')\n",
    "print('Number of Elements:', len(set2))\n"
   ]
  },
  {
   "cell_type": "markdown",
   "metadata": {},
   "source": [
    "#### Identify the elements present in `set1` but not in `set2`. Assign the elements to a new set named `set3`."
   ]
  },
  {
   "cell_type": "code",
   "execution_count": 97,
   "metadata": {},
   "outputs": [
    {
     "name": "stdout",
     "output_type": "stream",
     "text": [
      "\n",
      " <class 'set'> \n",
      "\n",
      "{0, 5, 6, 10, 12, 15, 16, 17, 26, 27, 31, 34, 38, 44, 51, 54, 58, 59, 60, 64, 68, 69, 71, 72, 73, 75, 76, 78, 79, 81, 82, 83, 84, 89, 94, 96, 100} \n",
      "\n",
      "Number of Elements: 37\n"
     ]
    }
   ],
   "source": [
    "# Your code here\n",
    "\n",
    "set3 = set1 - set2\n",
    "print('\\n', type(set3), '\\n')\n",
    "print(set3, '\\n')\n",
    "print('Number of Elements:', len(set3))\n"
   ]
  },
  {
   "cell_type": "markdown",
   "metadata": {},
   "source": [
    "#### Identify the elements present in `set2` but not in `set1`. Assign the elements to a new set named `set4`."
   ]
  },
  {
   "cell_type": "code",
   "execution_count": 98,
   "metadata": {},
   "outputs": [
    {
     "name": "stdout",
     "output_type": "stream",
     "text": [
      "\n",
      " <class 'set'> \n",
      "\n",
      "{32, 1, 65, 3, 66, 37, 67, 40, 41, 43, 80, 91} \n",
      "\n",
      "Number of Elements: 12\n"
     ]
    }
   ],
   "source": [
    "# Your code here\n",
    "\n",
    "set4 = set2 - set1\n",
    "print('\\n', type(set4), '\\n')\n",
    "print(set4, '\\n')\n",
    "print('Number of Elements:', len(set4))\n"
   ]
  },
  {
   "cell_type": "markdown",
   "metadata": {},
   "source": [
    "#### Now Identify the elements shared between `set1` and `set2`. Assign the elements to a new set named `set5`."
   ]
  },
  {
   "cell_type": "code",
   "execution_count": 99,
   "metadata": {},
   "outputs": [
    {
     "name": "stdout",
     "output_type": "stream",
     "text": [
      "\n",
      " <class 'set'> \n",
      "\n",
      "{2, 4, 7, 8, 11, 13, 18, 19, 20, 21, 22, 23, 24, 25, 28, 30, 33, 35, 36, 39, 42, 46, 47, 49, 50, 52, 53, 55, 56, 57, 61, 63, 70, 74, 77, 85, 86, 87, 88, 92, 93, 97, 99} \n",
      "\n",
      "Number of Elements: 43\n"
     ]
    }
   ],
   "source": [
    "# Your code here\n",
    "\n",
    "set5 = set1.intersection(set2)\n",
    "print('\\n', type(set5), '\\n')\n",
    "print(set5, '\\n')\n",
    "print('Number of Elements:', len(set5))\n"
   ]
  },
  {
   "cell_type": "markdown",
   "metadata": {},
   "source": [
    "#### What is the relationship among the following values:\n",
    "\n",
    "* len(set1)\n",
    "* len(set2)\n",
    "* len(set3)\n",
    "* len(set4)\n",
    "* len(set5)\n",
    "\n",
    "Use a math formular to represent that relationship. Test your formular with Python code."
   ]
  },
  {
   "cell_type": "code",
   "execution_count": 100,
   "metadata": {},
   "outputs": [
    {
     "name": "stdout",
     "output_type": "stream",
     "text": [
      "\n",
      " {'set1': 80, 'set2': 55, 'set3': 37, 'set4': 12, 'set5': 43} \n",
      "\n",
      "The Relationship of these sets is represented through these formulas: \n",
      " \n",
      "    set_universe = set1 + set2 - set5 = 92 Total Elements\n",
      "    \n",
      "    n(set1 ∪ set2) = n(set1) + n(set2) - n(set1 ∩ set2) \n",
      "    \n",
      "    set_universe = set3 + set4 + set5 = 92 Total Elements\n",
      "    \n",
      "    n(set1 ∪ set2) = n(set1') + n(set2') + n(set1 ∩ set2) \n",
      "\n"
     ]
    }
   ],
   "source": [
    "# Your code here\n",
    "\n",
    "keys = ['set1', 'set2', 'set3', 'set4', 'set5']\n",
    "values = [\n",
    "len(set1),\n",
    "len(set2),\n",
    "len(set3),\n",
    "len(set4),\n",
    "len(set5)\n",
    "     ]\n",
    "number_elements = {keys[i]:values[i] for i in range(len(keys))}\n",
    "print('\\n', number_elements,'\\n')\n",
    "formula = '''\n",
    "    set_universe = set1 + set2 - set5 = {total1} Total Elements\n",
    "    \n",
    "    n(set1 ∪ set2) = n(set1) + n(set2) - n(set1 ∩ set2) \n",
    "    \n",
    "    set_universe = set3 + set4 + set5 = {total2} Total Elements\n",
    "    \n",
    "    n(set1 ∪ set2) = n(set1') + n(set2') + n(set1 ∩ set2) \n",
    "'''.format(total1=str(values[0]+values[1]-values[-1]), total2=str(values[2]+values[3]+values[-1]))\n",
    "print('The Relationship of these sets is represented through these formulas:', '\\n', formula)\n"
   ]
  },
  {
   "cell_type": "markdown",
   "metadata": {},
   "source": [
    "#### Create an empty set called `set6`."
   ]
  },
  {
   "cell_type": "code",
   "execution_count": 101,
   "metadata": {},
   "outputs": [],
   "source": [
    "# Your code here\n",
    "\n",
    "set6 = set()\n"
   ]
  },
  {
   "cell_type": "markdown",
   "metadata": {},
   "source": [
    "#### Add `set3` and `set5` to `set6` using the Python Set `update` method."
   ]
  },
  {
   "cell_type": "code",
   "execution_count": 102,
   "metadata": {},
   "outputs": [
    {
     "name": "stdout",
     "output_type": "stream",
     "text": [
      "\n",
      " <class 'set'> \n",
      "\n",
      "{0, 2, 4, 5, 6, 7, 8, 10, 11, 12, 13, 15, 16, 17, 18, 19, 20, 21, 22, 23, 24, 25, 26, 27, 28, 30, 31, 33, 34, 35, 36, 38, 39, 42, 44, 46, 47, 49, 50, 51, 52, 53, 54, 55, 56, 57, 58, 59, 60, 61, 63, 64, 68, 69, 70, 71, 72, 73, 74, 75, 76, 77, 78, 79, 81, 82, 83, 84, 85, 86, 87, 88, 89, 92, 93, 94, 96, 97, 99, 100} \n",
      "\n",
      "Number of Elements: 80\n"
     ]
    }
   ],
   "source": [
    "# Your code here\n",
    "\n",
    "set6.update(set3, set5)\n",
    "print('\\n', type(set6),'\\n')\n",
    "print(set6, '\\n')\n",
    "print('Number of Elements:', len(set6))\n"
   ]
  },
  {
   "cell_type": "markdown",
   "metadata": {},
   "source": [
    "#### Check if `set1` and `set6` are equal."
   ]
  },
  {
   "cell_type": "code",
   "execution_count": 103,
   "metadata": {},
   "outputs": [
    {
     "name": "stdout",
     "output_type": "stream",
     "text": [
      "\n",
      " Set1: <class 'set'> \n",
      "\n",
      "{0, 2, 4, 5, 6, 7, 8, 10, 11, 12, 13, 15, 16, 17, 18, 19, 20, 21, 22, 23, 24, 25, 26, 27, 28, 30, 31, 33, 34, 35, 36, 38, 39, 42, 44, 46, 47, 49, 50, 51, 52, 53, 54, 55, 56, 57, 58, 59, 60, 61, 63, 64, 68, 69, 70, 71, 72, 73, 74, 75, 76, 77, 78, 79, 81, 82, 83, 84, 85, 86, 87, 88, 89, 92, 93, 94, 96, 97, 99, 100} \n",
      "\n",
      "\n",
      " Set6: <class 'set'> \n",
      "\n",
      "{0, 2, 4, 5, 6, 7, 8, 10, 11, 12, 13, 15, 16, 17, 18, 19, 20, 21, 22, 23, 24, 25, 26, 27, 28, 30, 31, 33, 34, 35, 36, 38, 39, 42, 44, 46, 47, 49, 50, 51, 52, 53, 54, 55, 56, 57, 58, 59, 60, 61, 63, 64, 68, 69, 70, 71, 72, 73, 74, 75, 76, 77, 78, 79, 81, 82, 83, 84, 85, 86, 87, 88, 89, 92, 93, 94, 96, 97, 99, 100} \n",
      "\n",
      "Set6 and Set1 contain the SAME ELEMENTS\n"
     ]
    }
   ],
   "source": [
    "# Your code here\n",
    "print('\\n', 'Set1:', type(set1),'\\n')\n",
    "print(set1, '\\n')\n",
    "print('\\n', 'Set6:', type(set6),'\\n')\n",
    "print(set6, '\\n')\n",
    "if set6 == set1:\n",
    "    print('Set6 and Set1 contain the SAME ELEMENTS')\n"
   ]
  },
  {
   "cell_type": "markdown",
   "metadata": {},
   "source": [
    "#### Check if `set1` contains `set2` using the Python Set `issubset` method. Then check if `set1` contains `set3`.*"
   ]
  },
  {
   "cell_type": "code",
   "execution_count": 104,
   "metadata": {
    "scrolled": true
   },
   "outputs": [
    {
     "name": "stdout",
     "output_type": "stream",
     "text": [
      "Help on method_descriptor:\n",
      "\n",
      "issubset(...)\n",
      "    Report whether another set contains this set.\n",
      "\n",
      "It is False that Set1 contains Set2 \n",
      "\n",
      "It is True that Set1 contains Set3\n"
     ]
    }
   ],
   "source": [
    "# Your code here\n",
    "\n",
    "help(set.issubset)\n",
    "print('It is {} that Set1 contains Set2'.format(set2.issubset(set1)), '\\n')\n",
    "print('It is {} that Set1 contains Set3'.format(set3.issubset(set1)))\n"
   ]
  },
  {
   "cell_type": "markdown",
   "metadata": {},
   "source": [
    "#### Using the Python Set `union` method, aggregate `set3`, `set4`, and `set5`. Then aggregate `set1` and `set2`. \n",
    "\n",
    "#### Check if the aggregated values are equal."
   ]
  },
  {
   "cell_type": "code",
   "execution_count": 105,
   "metadata": {},
   "outputs": [
    {
     "name": "stdout",
     "output_type": "stream",
     "text": [
      "\n",
      " Set3 U Set4 U Set5: <class 'set'> \n",
      "\n",
      "{0, 1, 2, 3, 4, 5, 6, 7, 8, 10, 11, 12, 13, 15, 16, 17, 18, 19, 20, 21, 22, 23, 24, 25, 26, 27, 28, 30, 31, 32, 33, 34, 35, 36, 37, 38, 39, 40, 41, 42, 43, 44, 46, 47, 49, 50, 51, 52, 53, 54, 55, 56, 57, 58, 59, 60, 61, 63, 64, 65, 66, 67, 68, 69, 70, 71, 72, 73, 74, 75, 76, 77, 78, 79, 80, 81, 82, 83, 84, 85, 86, 87, 88, 89, 91, 92, 93, 94, 96, 97, 99, 100} \n",
      "\n",
      "\n",
      " Set1 U Set2: <class 'set'> \n",
      "\n",
      "{0, 1, 2, 3, 4, 5, 6, 7, 8, 10, 11, 12, 13, 15, 16, 17, 18, 19, 20, 21, 22, 23, 24, 25, 26, 27, 28, 30, 31, 32, 33, 34, 35, 36, 37, 38, 39, 40, 41, 42, 43, 44, 46, 47, 49, 50, 51, 52, 53, 54, 55, 56, 57, 58, 59, 60, 61, 63, 64, 65, 66, 67, 68, 69, 70, 71, 72, 73, 74, 75, 76, 77, 78, 79, 80, 81, 82, 83, 84, 85, 86, 87, 88, 89, 91, 92, 93, 94, 96, 97, 99, 100} \n",
      "\n",
      "Set3 U Set4 U Set5 and Set1 U Set2 are EQUALS\n"
     ]
    }
   ],
   "source": [
    "# Your code here\n",
    "\n",
    "union345 = set3.union(set4, set5)\n",
    "union12 = set1.union(set2)\n",
    "print('\\n', 'Set3 U Set4 U Set5:', type(union345),'\\n')\n",
    "print(union345, '\\n')\n",
    "print('\\n', 'Set1 U Set2:', type(union12),'\\n')\n",
    "print(union12, '\\n')\n",
    "if union345 == union12:\n",
    "    print('Set3 U Set4 U Set5 and Set1 U Set2 are EQUALS')\n"
   ]
  },
  {
   "cell_type": "markdown",
   "metadata": {},
   "source": [
    "#### Using the `pop` method, remove the first element from `set1`."
   ]
  },
  {
   "cell_type": "code",
   "execution_count": 106,
   "metadata": {},
   "outputs": [
    {
     "name": "stdout",
     "output_type": "stream",
     "text": [
      "Help on method_descriptor:\n",
      "\n",
      "pop(...)\n",
      "    Remove and return an arbitrary set element.\n",
      "    Raises KeyError if the set is empty.\n",
      "\n",
      "\n",
      " Set1: <class 'set'> \n",
      "\n",
      "{0, 2, 4, 5, 6, 7, 8, 10, 11, 12, 13, 15, 16, 17, 18, 19, 20, 21, 22, 23, 24, 25, 26, 27, 28, 30, 31, 33, 34, 35, 36, 38, 39, 42, 44, 46, 47, 49, 50, 51, 52, 53, 54, 55, 56, 57, 58, 59, 60, 61, 63, 64, 68, 69, 70, 71, 72, 73, 74, 75, 76, 77, 78, 79, 81, 82, 83, 84, 85, 86, 87, 88, 89, 92, 93, 94, 96, 97, 99, 100} \n",
      "\n",
      "Number of Elements: 80 \n",
      "\n",
      "After .pop Set1: \n",
      "\n",
      "Element popped: 0 \n",
      "\n",
      "Set1: <class 'set'> \n",
      "\n",
      "{2, 4, 5, 6, 7, 8, 10, 11, 12, 13, 15, 16, 17, 18, 19, 20, 21, 22, 23, 24, 25, 26, 27, 28, 30, 31, 33, 34, 35, 36, 38, 39, 42, 44, 46, 47, 49, 50, 51, 52, 53, 54, 55, 56, 57, 58, 59, 60, 61, 63, 64, 68, 69, 70, 71, 72, 73, 74, 75, 76, 77, 78, 79, 81, 82, 83, 84, 85, 86, 87, 88, 89, 92, 93, 94, 96, 97, 99, 100} \n",
      "\n",
      "Number of Elements: 79 \n",
      "\n"
     ]
    }
   ],
   "source": [
    "# Your code here\n",
    "\n",
    "help(set.pop) \n",
    "\n",
    "### pop in sets: no acepta ningun parametro \n",
    "### por lo que se convertira el set a una lista, y de lista a set despues del pop ...\n",
    "\n",
    "print('\\n', 'Set1:', type(set1),'\\n')\n",
    "print(set1, '\\n')\n",
    "print('Number of Elements:',len(set1), '\\n')\n",
    "print('After .pop Set1:', '\\n')\n",
    "set1 = list(set1)\n",
    "print('Element popped:', set1.pop(0), '\\n')\n",
    "set1 = set(set1)\n",
    "print('Set1:', type(set1),'\\n')\n",
    "print(set1, '\\n')\n",
    "print('Number of Elements:',len(set1), '\\n')\n"
   ]
  },
  {
   "cell_type": "markdown",
   "metadata": {},
   "source": [
    "#### Remove every element in the following list from `set1` if they are present in the set. Print the remaining elements.\n",
    "\n",
    "```\n",
    "list_to_remove = [1, 9, 11, 19, 21, 29, 31, 39, 41, 49, 51, 59, 61, 69, 71, 79, 81, 89, 91, 99]\n",
    "```"
   ]
  },
  {
   "cell_type": "code",
   "execution_count": 107,
   "metadata": {},
   "outputs": [
    {
     "name": "stdout",
     "output_type": "stream",
     "text": [
      "Elements to be removed: [1, 9, 11, 19, 21, 29, 31, 39, 41, 49, 51, 59, 61, 69, 71, 79, 81, 89, 91, 99] \n",
      "\n",
      "Set1 after removing elements: \n",
      "\n",
      "{2, 4, 5, 6, 7, 8, 10, 12, 13, 15, 16, 17, 18, 20, 22, 23, 24, 25, 26, 27, 28, 30, 33, 34, 35, 36, 38, 42, 44, 46, 47, 50, 52, 53, 54, 55, 56, 57, 58, 60, 63, 64, 68, 70, 72, 73, 74, 75, 76, 77, 78, 82, 83, 84, 85, 86, 87, 88, 92, 93, 94, 96, 97, 100} \n",
      "\n",
      "Number of Remaining Elements: 64\n"
     ]
    }
   ],
   "source": [
    "# Your code here\n",
    "\n",
    "list_to_remove = [1, 9, 11, 19, 21, 29, 31, 39, 41, 49, 51, 59, 61, 69, 71, 79, 81, 89, 91, 99]\n",
    "print('Elements to be removed:', list_to_remove, '\\n')\n",
    "set1 = set1.difference(list_to_remove)\n",
    "print('Set1 after removing elements:','\\n')\n",
    "print(set1, '\\n')\n",
    "print('Number of Remaining Elements:', len(set1))\n"
   ]
  }
 ],
 "metadata": {
  "kernelspec": {
   "display_name": "Python 3",
   "language": "python",
   "name": "python3"
  },
  "language_info": {
   "codemirror_mode": {
    "name": "ipython",
    "version": 3
   },
   "file_extension": ".py",
   "mimetype": "text/x-python",
   "name": "python",
   "nbconvert_exporter": "python",
   "pygments_lexer": "ipython3",
   "version": "3.8.3"
  }
 },
 "nbformat": 4,
 "nbformat_minor": 2
}
