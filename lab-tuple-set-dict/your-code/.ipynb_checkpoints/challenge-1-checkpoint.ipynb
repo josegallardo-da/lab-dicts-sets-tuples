{
 "cells": [
  {
   "cell_type": "markdown",
   "metadata": {},
   "source": [
    "## Challenge 1: Tuples\n",
    "\n",
    "#### Do you know you can create tuples with only one element?\n",
    "\n",
    "**In the cell below, define a variable `tup` with a single element `\"I\"`.**\n",
    "\n",
    "*Hint: you need to add a comma (`,`) after the single element.*"
   ]
  },
  {
   "cell_type": "code",
   "execution_count": 162,
   "metadata": {},
   "outputs": [
    {
     "data": {
      "text/plain": [
       "tuple"
      ]
     },
     "execution_count": 162,
     "metadata": {},
     "output_type": "execute_result"
    }
   ],
   "source": [
    "# Your code here\n",
    "tup = (\"I\",)\n",
    "type(tup)"
   ]
  },
  {
   "cell_type": "markdown",
   "metadata": {},
   "source": [
    "#### Print the type of `tup`. \n",
    "\n",
    "Make sure its type is correct (i.e. *tuple* instead of *str*)."
   ]
  },
  {
   "cell_type": "code",
   "execution_count": 163,
   "metadata": {},
   "outputs": [
    {
     "name": "stdout",
     "output_type": "stream",
     "text": [
      "<class 'tuple'>\n"
     ]
    }
   ],
   "source": [
    "# Your code here\n",
    "print(type(tup))"
   ]
  },
  {
   "cell_type": "markdown",
   "metadata": {},
   "source": [
    "#### Now try to append the following elements to `tup`. \n",
    "\n",
    "Are you able to do it? Explain.\n",
    "\n",
    "```\n",
    "\"r\", \"o\", \"n\", \"h\", \"a\", \"c\", \"k',\n",
    "```"
   ]
  },
  {
   "cell_type": "code",
   "execution_count": 164,
   "metadata": {
    "scrolled": true
   },
   "outputs": [
    {
     "name": "stdout",
     "output_type": "stream",
     "text": [
      "The modified tuple: ('I', 'r', 'o', 'n', 'h', 'a', 'c', 'k')\n",
      "\n",
      " Explanation: \n",
      " \n",
      "      A python tuple is a immutable object, hence any method\n",
      "      that tries to mofify it will not be allowed,\n",
      "      therefore .append it is not going to work unless you\n",
      "      convert the tuple into a list first ... however, there\n",
      "      is no need for this as you can join elements of different\n",
      "      tuples by using the operation \"+\", as seen in the code above.\n",
      "      \n"
     ]
    }
   ],
   "source": [
    "# Your code here\n",
    "\n",
    "elements = (\"r\", \"o\", \"n\", \"h\", \"a\", \"c\", \"k\")\n",
    "tup += elements\n",
    "print('The modified tuple:', tup)\n",
    "\n",
    "### Wrong Alternative:\n",
    "\n",
    "# elements = [\"r\", \"o\", \"n\", \"h\", \"a\", \"c\", \"k\"]\n",
    "# lst_tup = list(tup)\n",
    "# lst_tup.append(elements)\n",
    "# tup = tuple(lst_tup)\n",
    "# print(tup)\n",
    "# output = ('I', ['r', 'o', 'n', 'h', 'a', 'c', 'k'])\n",
    "\n",
    "# Your explanation here\n",
    "\n",
    "print('\\n', 'Explanation:', '\\n', \n",
    "      \"\"\"\n",
    "      A python tuple is a immutable object, hence any method\n",
    "      that tries to mofify it will not be allowed,\n",
    "      therefore .append it is not going to work unless you\n",
    "      convert the tuple into a list first ... however, there\n",
    "      is no need for this as you can join elements of different\n",
    "      tuples by using the operation \"+\", as seen in the code above.\n",
    "      \"\"\")"
   ]
  },
  {
   "cell_type": "markdown",
   "metadata": {},
   "source": [
    "#### How about re-assign a new value to an existing tuple?\n",
    "\n",
    "Re-assign the following elements to `tup`. Are you able to do it? Explain.\n",
    "\n",
    "```\n",
    "\"I\", \"r\", \"o\", \"n\", \"h\", \"a\", \"c\", \"k\"\n",
    "```"
   ]
  },
  {
   "cell_type": "code",
   "execution_count": 165,
   "metadata": {},
   "outputs": [
    {
     "name": "stdout",
     "output_type": "stream",
     "text": [
      "Prior to re-assigning the elements to tup: ('I', 'r', 'o', 'n', 'h', 'a', 'c', 'k')\n",
      "The original tuple: ('I',)\n",
      "The new tuple: ('I', 'r', 'o', 'n', 'h', 'a', 'c', 'k')\n",
      "\n",
      " Explanation: \n",
      " \n",
      "      The values of a python tuple can be re-assigned by just updating them\n",
      "      by using =; this is allowed since the tuple isn't being modified through \n",
      "      any operation. \n",
      "      \n"
     ]
    }
   ],
   "source": [
    "# Your code here\n",
    "\n",
    "print('Prior to re-assigning the elements to tup:', tup)\n",
    "tup = (\"I\",)\n",
    "print('The original tuple:', tup)\n",
    "tup = (\"I\", \"r\", \"o\", \"n\", \"h\", \"a\", \"c\", \"k\")\n",
    "print('The new tuple:', tup)\n",
    "\n",
    "# Your explanation here\n",
    "\n",
    "print('\\n', 'Explanation:', '\\n', \n",
    "      \"\"\"\n",
    "      The values of a python tuple can be re-assigned by just updating them\n",
    "      by using =; this is allowed since the tuple isn't being modified through \n",
    "      any operation. \n",
    "      \"\"\")\n"
   ]
  },
  {
   "cell_type": "markdown",
   "metadata": {},
   "source": [
    "#### Split `tup` into `tup1` and `tup2` with 4 elements in each. \n",
    "\n",
    "`tup1` should be `(\"I\", \"r\", \"o\", \"n\")` and `tup2` should be `(\"h\", \"a\", \"c\", \"k\")`.\n",
    "\n",
    "*Hint: use positive index numbers for `tup1` assignment and use negative index numbers for `tup2` assignment. Positive index numbers count from the beginning whereas negative index numbers count from the end of the sequence.*\n",
    "\n",
    "Also print `tup1` and `tup2`."
   ]
  },
  {
   "cell_type": "code",
   "execution_count": 166,
   "metadata": {},
   "outputs": [
    {
     "name": "stdout",
     "output_type": "stream",
     "text": [
      "tup1: ('I', 'r', 'o', 'n') \n",
      "\n",
      "tup2: ('h', 'a', 'c', 'k')\n"
     ]
    }
   ],
   "source": [
    "# Your code here\n",
    "\n",
    "tup1 = tup[:4]\n",
    "tup2 = tup[-4:]\n",
    "print('tup1:', tup1, '\\n')\n",
    "print('tup2:',tup2)\n"
   ]
  },
  {
   "cell_type": "markdown",
   "metadata": {},
   "source": [
    "#### Add `tup1` and `tup2` into `tup3` using the `+` operator.\n",
    "\n",
    "Then print `tup3` and check if `tup3` equals to `tup`."
   ]
  },
  {
   "cell_type": "code",
   "execution_count": 167,
   "metadata": {},
   "outputs": [
    {
     "name": "stdout",
     "output_type": "stream",
     "text": [
      "tup3: ('I', 'r', 'o', 'n', 'h', 'a', 'c', 'k') \n",
      "\n",
      "tup: ('I', 'r', 'o', 'n', 'h', 'a', 'c', 'k') \n",
      "\n",
      "tup3 equals to tup\n"
     ]
    }
   ],
   "source": [
    "# Your code here\n",
    "\n",
    "tup3 = tup1 + tup2\n",
    "print('tup3:', tup3,'\\n')\n",
    "print('tup:', tup, '\\n')\n",
    "if tup3==tup:\n",
    "    print('tup3 equals to tup')\n",
    "else:\n",
    "    print('False')"
   ]
  },
  {
   "cell_type": "markdown",
   "metadata": {},
   "source": [
    "#### Count the number of elements in `tup1` and `tup2`. Then add the two counts together and check if the sum is the same as the number of elements in `tup3`"
   ]
  },
  {
   "cell_type": "code",
   "execution_count": 168,
   "metadata": {},
   "outputs": [
    {
     "name": "stdout",
     "output_type": "stream",
     "text": [
      "The number of elements in tup1 is 4 \n",
      "\n",
      "The number of elements in tup2 is 4 \n",
      "\n",
      "The number of elements in tup3 is 8 \n",
      "\n",
      "True\n"
     ]
    }
   ],
   "source": [
    "# Your code here\n",
    "\n",
    "print('The number of elements in tup1 is', len(tup1), '\\n')\n",
    "print('The number of elements in tup2 is', len(tup2), '\\n')\n",
    "print('The number of elements in tup3 is', len(tup3), '\\n')\n",
    "if len(tup1+tup2) == len(tup3):  ### len(tup1+tup2) = (len(tup1)+len(tup2)\n",
    "    print('True')\n",
    "else:\n",
    "    print('False')"
   ]
  },
  {
   "cell_type": "markdown",
   "metadata": {},
   "source": [
    "#### What is the index number of `\"h\"` in `tup3`?"
   ]
  },
  {
   "cell_type": "code",
   "execution_count": 169,
   "metadata": {},
   "outputs": [
    {
     "name": "stdout",
     "output_type": "stream",
     "text": [
      "tup3: ('I', 'r', 'o', 'n', 'h', 'a', 'c', 'k') \n",
      "\n",
      "The index number of h in tup3 is: 4 \n",
      "\n",
      "tup3[4] = h\n"
     ]
    }
   ],
   "source": [
    "# Your code here\n",
    "\n",
    "print('tup3:', tup3,'\\n')\n",
    "print('The index number of ''h'' in tup3 is:', tup3.index('h'), '\\n')\n",
    "print('tup3[4] =', tup3[4])\n"
   ]
  },
  {
   "cell_type": "markdown",
   "metadata": {},
   "source": [
    "#### Now, use a FOR loop to check whether each letter in the following list is present in `tup3`:\n",
    "\n",
    "```\n",
    "letters = [\"a\", \"b\", \"c\", \"d\", \"e\"]\n",
    "```\n",
    "\n",
    "For each letter you check, print `True` if it is present in `tup3` otherwise print `False`.\n",
    "\n",
    "*Hint: you only need to loop `letters`. You don't need to loop `tup3` because there is a Python operator `in` you can use. See [reference](https://stackoverflow.com/questions/17920147/how-to-check-if-a-tuple-contains-an-element-in-python).*"
   ]
  },
  {
   "cell_type": "code",
   "execution_count": 170,
   "metadata": {},
   "outputs": [
    {
     "name": "stdout",
     "output_type": "stream",
     "text": [
      "tup3 ('I', 'r', 'o', 'n', 'h', 'a', 'c', 'k') \n",
      "\n",
      "letters: ['a', 'b', 'c', 'd', 'e'] \n",
      "\n",
      "True\n",
      "False\n",
      "True\n",
      "False\n",
      "False\n",
      "\n",
      " Checking each element of letters that is in tup3: {'a': 'True', 'b': 'False', 'c': 'True', 'd': 'False', 'e': 'False'}\n"
     ]
    }
   ],
   "source": [
    "# Your code here\n",
    "\n",
    "print('tup3', tup3, '\\n')\n",
    "letters = [\"a\", \"b\", \"c\", \"d\", \"e\"]\n",
    "print('letters:', letters, '\\n')\n",
    "\n",
    "for l in letters:\n",
    "    if l in tup3:\n",
    "        print('True')\n",
    "    else:\n",
    "        print('False')\n",
    "\n",
    "checking = {l:'True' if l in tup3 else 'False' for l in letters}\n",
    "print('\\n','Checking each element of letters that is in tup3:',checking)\n",
    "        "
   ]
  },
  {
   "cell_type": "markdown",
   "metadata": {},
   "source": [
    "#### How many times does each letter in `letters` appear in `tup3`?\n",
    "\n",
    "Print out the number of occurrence of each letter."
   ]
  },
  {
   "cell_type": "code",
   "execution_count": 171,
   "metadata": {},
   "outputs": [
    {
     "name": "stdout",
     "output_type": "stream",
     "text": [
      "\n",
      " Counting how many times each letter appears in tup3: \n",
      "\n",
      " {'a': 1, 'b': 0, 'c': 1, 'd': 0, 'e': 0}\n"
     ]
    }
   ],
   "source": [
    "# Your code here\n",
    "\n",
    "counting = {l:tup3.count(l) for l in letters}\n",
    "print('\\n Counting how many times each letter appears in tup3:', '\\n'*2,counting)\n"
   ]
  },
  {
   "cell_type": "code",
   "execution_count": null,
   "metadata": {},
   "outputs": [],
   "source": []
  }
 ],
 "metadata": {
  "kernelspec": {
   "display_name": "Python 3",
   "language": "python",
   "name": "python3"
  },
  "language_info": {
   "codemirror_mode": {
    "name": "ipython",
    "version": 3
   },
   "file_extension": ".py",
   "mimetype": "text/x-python",
   "name": "python",
   "nbconvert_exporter": "python",
   "pygments_lexer": "ipython3",
   "version": "3.8.3"
  }
 },
 "nbformat": 4,
 "nbformat_minor": 2
}
